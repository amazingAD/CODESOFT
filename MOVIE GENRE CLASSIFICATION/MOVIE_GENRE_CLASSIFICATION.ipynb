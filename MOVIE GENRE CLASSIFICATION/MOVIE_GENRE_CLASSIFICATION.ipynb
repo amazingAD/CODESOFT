{
 "cells": [
  {
   "cell_type": "code",
   "execution_count": 2,
   "id": "770f0ae4",
   "metadata": {},
   "outputs": [],
   "source": [
    "import pandas as pd\n",
    "import numpy as np\n",
    "import re\n",
    "\n",
    "from sklearn.feature_extraction.text import TfidfVectorizer\n",
    "from sklearn.model_selection import train_test_split\n",
    "from sklearn.naive_bayes import MultinomialNB\n",
    "from sklearn.linear_model import LogisticRegression\n",
    "from sklearn.svm import LinearSVC\n",
    "from sklearn.metrics import classification_report, accuracy_score\n",
    "\n",
    "import warnings\n",
    "warnings.filterwarnings(\"ignore\")\n"
   ]
  },
  {
   "cell_type": "code",
   "execution_count": 3,
   "id": "a75705f1",
   "metadata": {},
   "outputs": [
    {
     "name": "stdout",
     "output_type": "stream",
     "text": [
      "Train shape: (54214, 4)\n"
     ]
    },
    {
     "data": {
      "text/html": [
       "<div>\n",
       "<style scoped>\n",
       "    .dataframe tbody tr th:only-of-type {\n",
       "        vertical-align: middle;\n",
       "    }\n",
       "\n",
       "    .dataframe tbody tr th {\n",
       "        vertical-align: top;\n",
       "    }\n",
       "\n",
       "    .dataframe thead th {\n",
       "        text-align: right;\n",
       "    }\n",
       "</style>\n",
       "<table border=\"1\" class=\"dataframe\">\n",
       "  <thead>\n",
       "    <tr style=\"text-align: right;\">\n",
       "      <th></th>\n",
       "      <th>ID</th>\n",
       "      <th>Title</th>\n",
       "      <th>Genre</th>\n",
       "      <th>Description</th>\n",
       "    </tr>\n",
       "  </thead>\n",
       "  <tbody>\n",
       "    <tr>\n",
       "      <th>0</th>\n",
       "      <td>1</td>\n",
       "      <td>Oscar et la dame rose (2009)</td>\n",
       "      <td>drama</td>\n",
       "      <td>Listening in to a conversation between his doc...</td>\n",
       "    </tr>\n",
       "    <tr>\n",
       "      <th>1</th>\n",
       "      <td>2</td>\n",
       "      <td>Cupid (1997)</td>\n",
       "      <td>thriller</td>\n",
       "      <td>A brother and sister with a past incestuous re...</td>\n",
       "    </tr>\n",
       "    <tr>\n",
       "      <th>2</th>\n",
       "      <td>3</td>\n",
       "      <td>Young, Wild and Wonderful (1980)</td>\n",
       "      <td>adult</td>\n",
       "      <td>As the bus empties the students for their fiel...</td>\n",
       "    </tr>\n",
       "    <tr>\n",
       "      <th>3</th>\n",
       "      <td>4</td>\n",
       "      <td>The Secret Sin (1915)</td>\n",
       "      <td>drama</td>\n",
       "      <td>To help their unemployed father make ends meet...</td>\n",
       "    </tr>\n",
       "    <tr>\n",
       "      <th>4</th>\n",
       "      <td>5</td>\n",
       "      <td>The Unrecovered (2007)</td>\n",
       "      <td>drama</td>\n",
       "      <td>The film's title refers not only to the un-rec...</td>\n",
       "    </tr>\n",
       "  </tbody>\n",
       "</table>\n",
       "</div>"
      ],
      "text/plain": [
       "  ID                             Title     Genre  \\\n",
       "0  1      Oscar et la dame rose (2009)     drama   \n",
       "1  2                      Cupid (1997)  thriller   \n",
       "2  3  Young, Wild and Wonderful (1980)     adult   \n",
       "3  4             The Secret Sin (1915)     drama   \n",
       "4  5            The Unrecovered (2007)     drama   \n",
       "\n",
       "                                         Description  \n",
       "0  Listening in to a conversation between his doc...  \n",
       "1  A brother and sister with a past incestuous re...  \n",
       "2  As the bus empties the students for their fiel...  \n",
       "3  To help their unemployed father make ends meet...  \n",
       "4  The film's title refers not only to the un-rec...  "
      ]
     },
     "execution_count": 3,
     "metadata": {},
     "output_type": "execute_result"
    }
   ],
   "source": [
    "# Load and parse training data\n",
    "train_data = []\n",
    "with open(\"train_data.txt\", \"r\", encoding='utf-8') as f:\n",
    "    for line in f:\n",
    "        parts = line.strip().split(\" ::: \")\n",
    "        if len(parts) == 4:\n",
    "            ID, title, genre, description = parts\n",
    "            train_data.append((ID, title, genre, description))\n",
    "\n",
    "train_df = pd.DataFrame(train_data, columns=[\"ID\", \"Title\", \"Genre\", \"Description\"])\n",
    "print(\"Train shape:\", train_df.shape)\n",
    "train_df.head()\n"
   ]
  },
  {
   "cell_type": "code",
   "execution_count": 4,
   "id": "950a9215",
   "metadata": {},
   "outputs": [
    {
     "name": "stdout",
     "output_type": "stream",
     "text": [
      "Test shape: (54200, 3)\n"
     ]
    },
    {
     "data": {
      "text/html": [
       "<div>\n",
       "<style scoped>\n",
       "    .dataframe tbody tr th:only-of-type {\n",
       "        vertical-align: middle;\n",
       "    }\n",
       "\n",
       "    .dataframe tbody tr th {\n",
       "        vertical-align: top;\n",
       "    }\n",
       "\n",
       "    .dataframe thead th {\n",
       "        text-align: right;\n",
       "    }\n",
       "</style>\n",
       "<table border=\"1\" class=\"dataframe\">\n",
       "  <thead>\n",
       "    <tr style=\"text-align: right;\">\n",
       "      <th></th>\n",
       "      <th>ID</th>\n",
       "      <th>Title</th>\n",
       "      <th>Description</th>\n",
       "    </tr>\n",
       "  </thead>\n",
       "  <tbody>\n",
       "    <tr>\n",
       "      <th>0</th>\n",
       "      <td>1</td>\n",
       "      <td>Edgar's Lunch (1998)</td>\n",
       "      <td>L.R. Brane loves his life - his car, his apart...</td>\n",
       "    </tr>\n",
       "    <tr>\n",
       "      <th>1</th>\n",
       "      <td>2</td>\n",
       "      <td>La guerra de papá (1977)</td>\n",
       "      <td>Spain, March 1964: Quico is a very naughty chi...</td>\n",
       "    </tr>\n",
       "    <tr>\n",
       "      <th>2</th>\n",
       "      <td>3</td>\n",
       "      <td>Off the Beaten Track (2010)</td>\n",
       "      <td>One year in the life of Albin and his family o...</td>\n",
       "    </tr>\n",
       "    <tr>\n",
       "      <th>3</th>\n",
       "      <td>4</td>\n",
       "      <td>Meu Amigo Hindu (2015)</td>\n",
       "      <td>His father has died, he hasn't spoken with his...</td>\n",
       "    </tr>\n",
       "    <tr>\n",
       "      <th>4</th>\n",
       "      <td>5</td>\n",
       "      <td>Er nu zhai (1955)</td>\n",
       "      <td>Before he was known internationally as a marti...</td>\n",
       "    </tr>\n",
       "  </tbody>\n",
       "</table>\n",
       "</div>"
      ],
      "text/plain": [
       "  ID                        Title  \\\n",
       "0  1         Edgar's Lunch (1998)   \n",
       "1  2     La guerra de papá (1977)   \n",
       "2  3  Off the Beaten Track (2010)   \n",
       "3  4       Meu Amigo Hindu (2015)   \n",
       "4  5            Er nu zhai (1955)   \n",
       "\n",
       "                                         Description  \n",
       "0  L.R. Brane loves his life - his car, his apart...  \n",
       "1  Spain, March 1964: Quico is a very naughty chi...  \n",
       "2  One year in the life of Albin and his family o...  \n",
       "3  His father has died, he hasn't spoken with his...  \n",
       "4  Before he was known internationally as a marti...  "
      ]
     },
     "execution_count": 4,
     "metadata": {},
     "output_type": "execute_result"
    }
   ],
   "source": [
    "# Load and parse test data\n",
    "test_data = []\n",
    "with open(\"test_data.txt\", \"r\", encoding='utf-8') as f:\n",
    "    for line in f:\n",
    "        parts = line.strip().split(\" ::: \")\n",
    "        if len(parts) == 3:\n",
    "            ID, title, description = parts\n",
    "            test_data.append((ID, title, description))\n",
    "\n",
    "test_df = pd.DataFrame(test_data, columns=[\"ID\", \"Title\", \"Description\"])\n",
    "print(\"Test shape:\", test_df.shape)\n",
    "test_df.head()\n"
   ]
  },
  {
   "cell_type": "code",
   "execution_count": 5,
   "id": "02a617ce",
   "metadata": {},
   "outputs": [],
   "source": [
    "def clean_text(text):\n",
    "    text = text.lower()\n",
    "    text = re.sub(r'[^a-zA-Z0-9\\s]', '', text)\n",
    "    return text\n",
    "\n",
    "train_df['Clean_Description'] = train_df['Description'].apply(clean_text)\n",
    "test_df['Clean_Description'] = test_df['Description'].apply(clean_text)\n"
   ]
  },
  {
   "cell_type": "code",
   "execution_count": 6,
   "id": "ab028e02",
   "metadata": {},
   "outputs": [],
   "source": [
    "vectorizer = TfidfVectorizer(max_features=5000, stop_words='english')\n",
    "X = vectorizer.fit_transform(train_df['Clean_Description'])\n",
    "X_test_final = vectorizer.transform(test_df['Clean_Description'])\n",
    "\n",
    "y = train_df['Genre']\n"
   ]
  },
  {
   "cell_type": "code",
   "execution_count": 7,
   "id": "08a3aa4b",
   "metadata": {},
   "outputs": [],
   "source": [
    "X_train, X_val, y_train, y_val = train_test_split(X, y, test_size=0.2, random_state=42)\n"
   ]
  },
  {
   "cell_type": "code",
   "execution_count": 8,
   "id": "32300f3c",
   "metadata": {},
   "outputs": [
    {
     "name": "stdout",
     "output_type": "stream",
     "text": [
      "Naive Bayes Accuracy: 0.5214424052384027\n",
      "              precision    recall  f1-score   support\n",
      "\n",
      "      action       0.55      0.08      0.14       263\n",
      "       adult       1.00      0.05      0.10       112\n",
      "   adventure       0.50      0.07      0.13       139\n",
      "   animation       0.00      0.00      0.00       104\n",
      "   biography       0.00      0.00      0.00        61\n",
      "      comedy       0.51      0.44      0.47      1443\n",
      "       crime       0.00      0.00      0.00       107\n",
      " documentary       0.58      0.88      0.70      2659\n",
      "       drama       0.45      0.82      0.58      2697\n",
      "      family       0.00      0.00      0.00       150\n",
      "     fantasy       0.00      0.00      0.00        74\n",
      "   game-show       1.00      0.17      0.30        40\n",
      "     history       0.00      0.00      0.00        45\n",
      "      horror       0.73      0.36      0.48       431\n",
      "       music       0.83      0.13      0.23       144\n",
      "     musical       0.00      0.00      0.00        50\n",
      "     mystery       0.00      0.00      0.00        56\n",
      "        news       0.00      0.00      0.00        34\n",
      "  reality-tv       0.71      0.03      0.05       192\n",
      "     romance       0.00      0.00      0.00       151\n",
      "      sci-fi       0.50      0.02      0.04       143\n",
      "       short       0.61      0.11      0.18      1045\n",
      "       sport       0.73      0.09      0.15        93\n",
      "   talk-show       0.00      0.00      0.00        81\n",
      "    thriller       0.35      0.02      0.04       309\n",
      "         war       0.00      0.00      0.00        20\n",
      "     western       0.97      0.58      0.72       200\n",
      "\n",
      "    accuracy                           0.52     10843\n",
      "   macro avg       0.37      0.14      0.16     10843\n",
      "weighted avg       0.51      0.52      0.44     10843\n",
      "\n"
     ]
    }
   ],
   "source": [
    "nb_model = MultinomialNB()\n",
    "nb_model.fit(X_train, y_train)\n",
    "nb_preds = nb_model.predict(X_val)\n",
    "\n",
    "print(\"Naive Bayes Accuracy:\", accuracy_score(y_val, nb_preds))\n",
    "print(classification_report(y_val, nb_preds))\n"
   ]
  },
  {
   "cell_type": "code",
   "execution_count": 9,
   "id": "e8900348",
   "metadata": {},
   "outputs": [
    {
     "name": "stdout",
     "output_type": "stream",
     "text": [
      "Logistic Regression Accuracy: 0.5755787143779397\n",
      "              precision    recall  f1-score   support\n",
      "\n",
      "      action       0.55      0.25      0.35       263\n",
      "       adult       0.74      0.22      0.34       112\n",
      "   adventure       0.44      0.14      0.22       139\n",
      "   animation       0.67      0.10      0.17       104\n",
      "   biography       0.00      0.00      0.00        61\n",
      "      comedy       0.50      0.58      0.54      1443\n",
      "       crime       0.33      0.02      0.04       107\n",
      " documentary       0.66      0.84      0.74      2659\n",
      "       drama       0.54      0.77      0.64      2697\n",
      "      family       0.38      0.07      0.12       150\n",
      "     fantasy       0.00      0.00      0.00        74\n",
      "   game-show       0.95      0.45      0.61        40\n",
      "     history       0.00      0.00      0.00        45\n",
      "      horror       0.62      0.55      0.59       431\n",
      "       music       0.65      0.49      0.56       144\n",
      "     musical       0.50      0.02      0.04        50\n",
      "     mystery       0.00      0.00      0.00        56\n",
      "        news       1.00      0.03      0.06        34\n",
      "  reality-tv       0.48      0.17      0.25       192\n",
      "     romance       0.14      0.01      0.01       151\n",
      "      sci-fi       0.55      0.23      0.33       143\n",
      "       short       0.46      0.33      0.38      1045\n",
      "       sport       0.60      0.19      0.29        93\n",
      "   talk-show       0.56      0.11      0.19        81\n",
      "    thriller       0.38      0.14      0.20       309\n",
      "         war       0.00      0.00      0.00        20\n",
      "     western       0.94      0.72      0.82       200\n",
      "\n",
      "    accuracy                           0.58     10843\n",
      "   macro avg       0.47      0.24      0.28     10843\n",
      "weighted avg       0.55      0.58      0.53     10843\n",
      "\n"
     ]
    }
   ],
   "source": [
    "lr_model = LogisticRegression(max_iter=1000)\n",
    "lr_model.fit(X_train, y_train)\n",
    "lr_preds = lr_model.predict(X_val)\n",
    "\n",
    "print(\"Logistic Regression Accuracy:\", accuracy_score(y_val, lr_preds))\n",
    "print(classification_report(y_val, lr_preds))\n"
   ]
  },
  {
   "cell_type": "code",
   "execution_count": 10,
   "id": "b00a9750",
   "metadata": {},
   "outputs": [
    {
     "name": "stdout",
     "output_type": "stream",
     "text": [
      "SVM Accuracy: 0.5612837775523379\n",
      "              precision    recall  f1-score   support\n",
      "\n",
      "      action       0.38      0.30      0.34       263\n",
      "       adult       0.63      0.38      0.48       112\n",
      "   adventure       0.27      0.19      0.23       139\n",
      "   animation       0.34      0.13      0.19       104\n",
      "   biography       0.00      0.00      0.00        61\n",
      "      comedy       0.51      0.55      0.53      1443\n",
      "       crime       0.16      0.05      0.07       107\n",
      " documentary       0.69      0.80      0.74      2659\n",
      "       drama       0.56      0.70      0.62      2697\n",
      "      family       0.24      0.15      0.18       150\n",
      "     fantasy       0.16      0.04      0.06        74\n",
      "   game-show       0.72      0.65      0.68        40\n",
      "     history       0.00      0.00      0.00        45\n",
      "      horror       0.59      0.62      0.61       431\n",
      "       music       0.54      0.51      0.52       144\n",
      "     musical       0.08      0.02      0.03        50\n",
      "     mystery       0.11      0.04      0.05        56\n",
      "        news       0.14      0.03      0.05        34\n",
      "  reality-tv       0.46      0.29      0.36       192\n",
      "     romance       0.06      0.01      0.02       151\n",
      "      sci-fi       0.45      0.30      0.36       143\n",
      "       short       0.42      0.35      0.38      1045\n",
      "       sport       0.51      0.34      0.41        93\n",
      "   talk-show       0.40      0.21      0.27        81\n",
      "    thriller       0.26      0.15      0.19       309\n",
      "         war       0.33      0.10      0.15        20\n",
      "     western       0.81      0.79      0.80       200\n",
      "\n",
      "    accuracy                           0.56     10843\n",
      "   macro avg       0.36      0.29      0.31     10843\n",
      "weighted avg       0.52      0.56      0.54     10843\n",
      "\n"
     ]
    }
   ],
   "source": [
    "svm_model = LinearSVC()\n",
    "svm_model.fit(X_train, y_train)\n",
    "svm_preds = svm_model.predict(X_val)\n",
    "\n",
    "print(\"SVM Accuracy:\", accuracy_score(y_val, svm_preds))\n",
    "print(classification_report(y_val, svm_preds))\n"
   ]
  },
  {
   "cell_type": "code",
   "execution_count": null,
   "id": "5e8b3ec7",
   "metadata": {},
   "outputs": [
    {
     "name": "stdout",
     "output_type": "stream",
     "text": [
      "✅ Predictions saved to genre_predictions.csv\n"
     ]
    }
   ],
   "source": [
    "# You can use your best model here — let's use LogisticRegression\n",
    "final_preds = lr_model.predict(X_test_final)\n",
    "\n",
    "# Save results\n",
    "test_df['Predicted_Genre'] = final_preds\n",
    "test_df[['ID', 'Title', 'Predicted_Genre']].to_csv(\"genre_predictions.csv\", index=False)\n",
    "print(\" Predictions saved to genre_predictions.csv\")\n"
   ]
  },
  {
   "cell_type": "code",
   "execution_count": 12,
   "id": "b0512936",
   "metadata": {},
   "outputs": [
    {
     "name": "stdout",
     "output_type": "stream",
     "text": [
      "🔍 Final Test Accuracy: 0.5767343173431735\n",
      "              precision    recall  f1-score   support\n",
      "\n",
      "      action       0.48      0.27      0.34      1314\n",
      "       adult       0.62      0.20      0.30       590\n",
      "   adventure       0.60      0.17      0.27       775\n",
      "   animation       0.57      0.05      0.09       498\n",
      "   biography       0.00      0.00      0.00       264\n",
      "      comedy       0.52      0.58      0.55      7446\n",
      "       crime       0.36      0.03      0.05       505\n",
      " documentary       0.66      0.85      0.74     13096\n",
      "       drama       0.54      0.77      0.63     13612\n",
      "      family       0.53      0.08      0.14       783\n",
      "     fantasy       0.50      0.02      0.04       322\n",
      "   game-show       0.93      0.48      0.63       193\n",
      "     history       0.00      0.00      0.00       243\n",
      "      horror       0.63      0.56      0.60      2204\n",
      "       music       0.66      0.43      0.52       731\n",
      "     musical       0.29      0.02      0.03       276\n",
      "     mystery       0.40      0.01      0.01       318\n",
      "        news       0.69      0.05      0.09       181\n",
      "  reality-tv       0.48      0.14      0.22       883\n",
      "     romance       0.34      0.02      0.04       672\n",
      "      sci-fi       0.54      0.22      0.31       646\n",
      "       short       0.46      0.32      0.38      5072\n",
      "       sport       0.67      0.20      0.31       431\n",
      "   talk-show       0.61      0.12      0.20       391\n",
      "    thriller       0.37      0.12      0.18      1590\n",
      "         war       1.00      0.02      0.03       132\n",
      "     western       0.91      0.71      0.80      1032\n",
      "\n",
      "    accuracy                           0.58     54200\n",
      "   macro avg       0.53      0.24      0.28     54200\n",
      "weighted avg       0.56      0.58      0.53     54200\n",
      "\n"
     ]
    }
   ],
   "source": [
    "# Load test solution (optional if you want to evaluate)\n",
    "solution_data = []\n",
    "with open(\"test_data_solution.txt\", \"r\", encoding='utf-8') as f:\n",
    "    for line in f:\n",
    "        parts = line.strip().split(\" ::: \")\n",
    "        if len(parts) == 4:\n",
    "            ID, title, genre, description = parts\n",
    "            solution_data.append((ID, title, genre, description))\n",
    "\n",
    "solution_df = pd.DataFrame(solution_data, columns=[\"ID\", \"Title\", \"Genre\", \"Description\"])\n",
    "\n",
    "# Merge with prediction for evaluation\n",
    "merged = pd.merge(test_df, solution_df[['ID', 'Genre']], on=\"ID\", how=\"left\", suffixes=('_pred', '_true'))\n",
    "\n",
    "print(\"🔍 Final Test Accuracy:\", accuracy_score(merged['Genre'], merged['Predicted_Genre']))\n",
    "print(classification_report(merged['Genre'], merged['Predicted_Genre']))\n"
   ]
  }
 ],
 "metadata": {
  "kernelspec": {
   "display_name": "Python 3",
   "language": "python",
   "name": "python3"
  },
  "language_info": {
   "codemirror_mode": {
    "name": "ipython",
    "version": 3
   },
   "file_extension": ".py",
   "mimetype": "text/x-python",
   "name": "python",
   "nbconvert_exporter": "python",
   "pygments_lexer": "ipython3",
   "version": "3.12.6"
  }
 },
 "nbformat": 4,
 "nbformat_minor": 5
}
